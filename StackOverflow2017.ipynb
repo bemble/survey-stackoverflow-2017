{
 "cells": [
  {
   "cell_type": "markdown",
   "metadata": {},
   "source": [
    "# Stack overflow 2017 survey analysis"
   ]
  },
  {
   "cell_type": "code",
   "execution_count": 4,
   "metadata": {},
   "outputs": [],
   "source": [
    "import pandas as pd\n",
    "import plotly.express as px\n",
    "import pycountry\n",
    "\n",
    "pd.options.display.max_columns = None\n",
    "rawDf = pd.read_csv('developer_survey_2017/survey_results_public.csv')\n",
    "countryAlpha = rawDf.Country.apply(lambda x: pycountry.countries.get(name=x).alpha_3 if pycountry.countries.get(name=x) else None)\n",
    "df = rawDf.assign(CountryAlpha = countryAlpha)"
   ]
  },
  {
   "cell_type": "markdown",
   "metadata": {},
   "source": [
    "## Audience"
   ]
  },
  {
   "cell_type": "markdown",
   "metadata": {},
   "source": [
    "### Country origin"
   ]
  },
  {
   "cell_type": "code",
   "execution_count": 9,
   "metadata": {},
   "outputs": [
    {
     "data": {
      "application/vnd.plotly.v1+json": {
       "config": {
        "plotlyServerURL": "https://plot.ly"
       },
       "data": [
        {
         "coloraxis": "coloraxis",
         "geo": "geo",
         "hoverlabel": {
          "namelength": 0
         },
         "hovertemplate": "<b>%{hovertext}</b><br><br>CountryCode=%{location}<br>Count=%{z}",
         "hovertext": [
          "USA",
          "IND",
          "GBR",
          "DEU",
          "CAN",
          "FRA",
          "POL",
          "AUS",
          "RUS",
          "ESP",
          "NLD",
          "ITA",
          "BRA",
          "SWE",
          "CHE",
          "ISR",
          "ROU",
          "AUT",
          "PAK",
          "BEL",
          "ZAF",
          "TUR",
          "UKR",
          "MEX",
          "IRL",
          "HUN",
          "PHL",
          "SVN",
          "DNK",
          "GRC",
          "IDN",
          "FIN",
          "PRT",
          "NOR",
          "BGR",
          "ARG",
          "NZL",
          "JPN",
          "CHN",
          "SRB",
          "MYS",
          "BGD",
          "SGP",
          "LTU",
          "HRV",
          "NGA",
          "LKA",
          "COL",
          "EGY",
          "NPL",
          "HKG",
          "THA",
          "CHL",
          "ARE",
          "LVA",
          "KEN",
          "BLR",
          "EST",
          "URY",
          "ALB",
          "PER",
          "DOM",
          "MAR",
          "AFG",
          "LBN",
          "TUN",
          "CRI",
          "GHA",
          "SAU",
          "ARM",
          "GEO",
          "MLT",
          "JOR",
          "DZA",
          "GTM",
          "ETH",
          "ECU",
          "MMR",
          "KAZ",
          "LUX",
          "ISL",
          "CUB",
          "UZB",
          "CYP",
          "UGA",
          "PRY",
          "PAN",
          "MNG",
          "SLV",
          "JAM",
          "PRI",
          "ZWE",
          "KHM",
          "MUS",
          "TTO",
          "NIC",
          "MNE",
          "SDN",
          "RWA",
          "KWT",
          "BHR",
          "CMR",
          "IRQ",
          "QAT",
          "HND",
          "KGZ",
          "ATA",
          "ZMB",
          "AGO",
          "MDG",
          "MOZ",
          "BWA",
          "TGO",
          "BRN",
          "AND",
          "LIE",
          "SOM",
          "ASM",
          "SEN",
          "OMN",
          "BLZ",
          "HTI",
          "GUY",
          "NAM",
          "LBY",
          "ATG",
          "NER",
          "FJI",
          "YEM",
          "BRB",
          "BVT",
          "BEN",
          "LCA",
          "SUR",
          "BMU",
          "CYM",
          "BTN",
          "ABW",
          "MWI",
          "BDI",
          "AIA",
          "ERI",
          "BFA",
          "MCO",
          "GAB",
          "CXR",
          "COM",
          "BHS",
          "GIN",
          "MSR",
          "SYC",
          "MLI",
          "LSO",
          "TKM",
          "GIB",
          "GUM",
          "IOT",
          "DJI",
          "TCD",
          "MNP",
          "COK"
         ],
         "locations": [
          "USA",
          "IND",
          "GBR",
          "DEU",
          "CAN",
          "FRA",
          "POL",
          "AUS",
          "RUS",
          "ESP",
          "NLD",
          "ITA",
          "BRA",
          "SWE",
          "CHE",
          "ISR",
          "ROU",
          "AUT",
          "PAK",
          "BEL",
          "ZAF",
          "TUR",
          "UKR",
          "MEX",
          "IRL",
          "HUN",
          "PHL",
          "SVN",
          "DNK",
          "GRC",
          "IDN",
          "FIN",
          "PRT",
          "NOR",
          "BGR",
          "ARG",
          "NZL",
          "JPN",
          "CHN",
          "SRB",
          "MYS",
          "BGD",
          "SGP",
          "LTU",
          "HRV",
          "NGA",
          "LKA",
          "COL",
          "EGY",
          "NPL",
          "HKG",
          "THA",
          "CHL",
          "ARE",
          "LVA",
          "KEN",
          "BLR",
          "EST",
          "URY",
          "ALB",
          "PER",
          "DOM",
          "MAR",
          "AFG",
          "LBN",
          "TUN",
          "CRI",
          "GHA",
          "SAU",
          "ARM",
          "GEO",
          "MLT",
          "JOR",
          "DZA",
          "GTM",
          "ETH",
          "ECU",
          "MMR",
          "KAZ",
          "LUX",
          "ISL",
          "CUB",
          "UZB",
          "CYP",
          "UGA",
          "PRY",
          "PAN",
          "MNG",
          "SLV",
          "JAM",
          "PRI",
          "ZWE",
          "KHM",
          "MUS",
          "TTO",
          "NIC",
          "MNE",
          "SDN",
          "RWA",
          "KWT",
          "BHR",
          "CMR",
          "IRQ",
          "QAT",
          "HND",
          "KGZ",
          "ATA",
          "ZMB",
          "AGO",
          "MDG",
          "MOZ",
          "BWA",
          "TGO",
          "BRN",
          "AND",
          "LIE",
          "SOM",
          "ASM",
          "SEN",
          "OMN",
          "BLZ",
          "HTI",
          "GUY",
          "NAM",
          "LBY",
          "ATG",
          "NER",
          "FJI",
          "YEM",
          "BRB",
          "BVT",
          "BEN",
          "LCA",
          "SUR",
          "BMU",
          "CYM",
          "BTN",
          "ABW",
          "MWI",
          "BDI",
          "AIA",
          "ERI",
          "BFA",
          "MCO",
          "GAB",
          "CXR",
          "COM",
          "BHS",
          "GIN",
          "MSR",
          "SYC",
          "MLI",
          "LSO",
          "TKM",
          "GIB",
          "GUM",
          "IOT",
          "DJI",
          "TCD",
          "MNP",
          "COK"
         ],
         "name": "",
         "type": "choropleth",
         "z": [
          11455,
          5197,
          4395,
          4143,
          2233,
          1740,
          1290,
          913,
          873,
          864,
          855,
          781,
          777,
          611,
          595,
          575,
          561,
          477,
          454,
          404,
          380,
          363,
          356,
          351,
          345,
          332,
          328,
          303,
          300,
          298,
          289,
          287,
          271,
          259,
          258,
          255,
          252,
          248,
          239,
          228,
          192,
          184,
          177,
          176,
          172,
          171,
          170,
          149,
          134,
          125,
          122,
          119,
          111,
          98,
          98,
          95,
          91,
          90,
          78,
          76,
          65,
          65,
          63,
          60,
          56,
          56,
          54,
          53,
          52,
          51,
          46,
          46,
          43,
          41,
          38,
          37,
          36,
          35,
          34,
          33,
          33,
          33,
          28,
          28,
          28,
          22,
          22,
          22,
          21,
          20,
          20,
          20,
          19,
          17,
          15,
          14,
          12,
          12,
          12,
          12,
          12,
          12,
          11,
          11,
          11,
          11,
          11,
          10,
          9,
          8,
          8,
          7,
          7,
          7,
          6,
          6,
          5,
          5,
          5,
          5,
          4,
          4,
          4,
          4,
          4,
          3,
          3,
          3,
          3,
          3,
          2,
          2,
          2,
          2,
          2,
          2,
          2,
          2,
          2,
          2,
          2,
          2,
          1,
          1,
          1,
          1,
          1,
          1,
          1,
          1,
          1,
          1,
          1,
          1,
          1,
          1,
          1,
          1,
          1,
          1,
          1
         ]
        }
       ],
       "layout": {
        "autosize": true,
        "coloraxis": {
         "colorbar": {
          "title": {
           "text": "Count"
          }
         },
         "colorscale": [
          [
           0,
           "white"
          ],
          [
           0.5,
           "#0097a7"
          ],
          [
           1,
           "#004d40"
          ]
         ]
        },
        "geo": {
         "center": {},
         "domain": {
          "x": [
           0,
           1
          ],
          "y": [
           0,
           1
          ]
         }
        },
        "legend": {
         "tracegroupgap": 0
        },
        "margin": {
         "t": 60
        },
        "template": {
         "data": {
          "bar": [
           {
            "error_x": {
             "color": "#2a3f5f"
            },
            "error_y": {
             "color": "#2a3f5f"
            },
            "marker": {
             "line": {
              "color": "#E5ECF6",
              "width": 0.5
             }
            },
            "type": "bar"
           }
          ],
          "barpolar": [
           {
            "marker": {
             "line": {
              "color": "#E5ECF6",
              "width": 0.5
             }
            },
            "type": "barpolar"
           }
          ],
          "carpet": [
           {
            "aaxis": {
             "endlinecolor": "#2a3f5f",
             "gridcolor": "white",
             "linecolor": "white",
             "minorgridcolor": "white",
             "startlinecolor": "#2a3f5f"
            },
            "baxis": {
             "endlinecolor": "#2a3f5f",
             "gridcolor": "white",
             "linecolor": "white",
             "minorgridcolor": "white",
             "startlinecolor": "#2a3f5f"
            },
            "type": "carpet"
           }
          ],
          "choropleth": [
           {
            "colorbar": {
             "outlinewidth": 0,
             "ticks": ""
            },
            "type": "choropleth"
           }
          ],
          "contour": [
           {
            "colorbar": {
             "outlinewidth": 0,
             "ticks": ""
            },
            "colorscale": [
             [
              0,
              "#0d0887"
             ],
             [
              0.1111111111111111,
              "#46039f"
             ],
             [
              0.2222222222222222,
              "#7201a8"
             ],
             [
              0.3333333333333333,
              "#9c179e"
             ],
             [
              0.4444444444444444,
              "#bd3786"
             ],
             [
              0.5555555555555556,
              "#d8576b"
             ],
             [
              0.6666666666666666,
              "#ed7953"
             ],
             [
              0.7777777777777778,
              "#fb9f3a"
             ],
             [
              0.8888888888888888,
              "#fdca26"
             ],
             [
              1,
              "#f0f921"
             ]
            ],
            "type": "contour"
           }
          ],
          "contourcarpet": [
           {
            "colorbar": {
             "outlinewidth": 0,
             "ticks": ""
            },
            "type": "contourcarpet"
           }
          ],
          "heatmap": [
           {
            "colorbar": {
             "outlinewidth": 0,
             "ticks": ""
            },
            "colorscale": [
             [
              0,
              "#0d0887"
             ],
             [
              0.1111111111111111,
              "#46039f"
             ],
             [
              0.2222222222222222,
              "#7201a8"
             ],
             [
              0.3333333333333333,
              "#9c179e"
             ],
             [
              0.4444444444444444,
              "#bd3786"
             ],
             [
              0.5555555555555556,
              "#d8576b"
             ],
             [
              0.6666666666666666,
              "#ed7953"
             ],
             [
              0.7777777777777778,
              "#fb9f3a"
             ],
             [
              0.8888888888888888,
              "#fdca26"
             ],
             [
              1,
              "#f0f921"
             ]
            ],
            "type": "heatmap"
           }
          ],
          "heatmapgl": [
           {
            "colorbar": {
             "outlinewidth": 0,
             "ticks": ""
            },
            "colorscale": [
             [
              0,
              "#0d0887"
             ],
             [
              0.1111111111111111,
              "#46039f"
             ],
             [
              0.2222222222222222,
              "#7201a8"
             ],
             [
              0.3333333333333333,
              "#9c179e"
             ],
             [
              0.4444444444444444,
              "#bd3786"
             ],
             [
              0.5555555555555556,
              "#d8576b"
             ],
             [
              0.6666666666666666,
              "#ed7953"
             ],
             [
              0.7777777777777778,
              "#fb9f3a"
             ],
             [
              0.8888888888888888,
              "#fdca26"
             ],
             [
              1,
              "#f0f921"
             ]
            ],
            "type": "heatmapgl"
           }
          ],
          "histogram": [
           {
            "marker": {
             "colorbar": {
              "outlinewidth": 0,
              "ticks": ""
             }
            },
            "type": "histogram"
           }
          ],
          "histogram2d": [
           {
            "colorbar": {
             "outlinewidth": 0,
             "ticks": ""
            },
            "colorscale": [
             [
              0,
              "#0d0887"
             ],
             [
              0.1111111111111111,
              "#46039f"
             ],
             [
              0.2222222222222222,
              "#7201a8"
             ],
             [
              0.3333333333333333,
              "#9c179e"
             ],
             [
              0.4444444444444444,
              "#bd3786"
             ],
             [
              0.5555555555555556,
              "#d8576b"
             ],
             [
              0.6666666666666666,
              "#ed7953"
             ],
             [
              0.7777777777777778,
              "#fb9f3a"
             ],
             [
              0.8888888888888888,
              "#fdca26"
             ],
             [
              1,
              "#f0f921"
             ]
            ],
            "type": "histogram2d"
           }
          ],
          "histogram2dcontour": [
           {
            "colorbar": {
             "outlinewidth": 0,
             "ticks": ""
            },
            "colorscale": [
             [
              0,
              "#0d0887"
             ],
             [
              0.1111111111111111,
              "#46039f"
             ],
             [
              0.2222222222222222,
              "#7201a8"
             ],
             [
              0.3333333333333333,
              "#9c179e"
             ],
             [
              0.4444444444444444,
              "#bd3786"
             ],
             [
              0.5555555555555556,
              "#d8576b"
             ],
             [
              0.6666666666666666,
              "#ed7953"
             ],
             [
              0.7777777777777778,
              "#fb9f3a"
             ],
             [
              0.8888888888888888,
              "#fdca26"
             ],
             [
              1,
              "#f0f921"
             ]
            ],
            "type": "histogram2dcontour"
           }
          ],
          "mesh3d": [
           {
            "colorbar": {
             "outlinewidth": 0,
             "ticks": ""
            },
            "type": "mesh3d"
           }
          ],
          "parcoords": [
           {
            "line": {
             "colorbar": {
              "outlinewidth": 0,
              "ticks": ""
             }
            },
            "type": "parcoords"
           }
          ],
          "pie": [
           {
            "automargin": true,
            "type": "pie"
           }
          ],
          "scatter": [
           {
            "marker": {
             "colorbar": {
              "outlinewidth": 0,
              "ticks": ""
             }
            },
            "type": "scatter"
           }
          ],
          "scatter3d": [
           {
            "line": {
             "colorbar": {
              "outlinewidth": 0,
              "ticks": ""
             }
            },
            "marker": {
             "colorbar": {
              "outlinewidth": 0,
              "ticks": ""
             }
            },
            "type": "scatter3d"
           }
          ],
          "scattercarpet": [
           {
            "marker": {
             "colorbar": {
              "outlinewidth": 0,
              "ticks": ""
             }
            },
            "type": "scattercarpet"
           }
          ],
          "scattergeo": [
           {
            "marker": {
             "colorbar": {
              "outlinewidth": 0,
              "ticks": ""
             }
            },
            "type": "scattergeo"
           }
          ],
          "scattergl": [
           {
            "marker": {
             "colorbar": {
              "outlinewidth": 0,
              "ticks": ""
             }
            },
            "type": "scattergl"
           }
          ],
          "scattermapbox": [
           {
            "marker": {
             "colorbar": {
              "outlinewidth": 0,
              "ticks": ""
             }
            },
            "type": "scattermapbox"
           }
          ],
          "scatterpolar": [
           {
            "marker": {
             "colorbar": {
              "outlinewidth": 0,
              "ticks": ""
             }
            },
            "type": "scatterpolar"
           }
          ],
          "scatterpolargl": [
           {
            "marker": {
             "colorbar": {
              "outlinewidth": 0,
              "ticks": ""
             }
            },
            "type": "scatterpolargl"
           }
          ],
          "scatterternary": [
           {
            "marker": {
             "colorbar": {
              "outlinewidth": 0,
              "ticks": ""
             }
            },
            "type": "scatterternary"
           }
          ],
          "surface": [
           {
            "colorbar": {
             "outlinewidth": 0,
             "ticks": ""
            },
            "colorscale": [
             [
              0,
              "#0d0887"
             ],
             [
              0.1111111111111111,
              "#46039f"
             ],
             [
              0.2222222222222222,
              "#7201a8"
             ],
             [
              0.3333333333333333,
              "#9c179e"
             ],
             [
              0.4444444444444444,
              "#bd3786"
             ],
             [
              0.5555555555555556,
              "#d8576b"
             ],
             [
              0.6666666666666666,
              "#ed7953"
             ],
             [
              0.7777777777777778,
              "#fb9f3a"
             ],
             [
              0.8888888888888888,
              "#fdca26"
             ],
             [
              1,
              "#f0f921"
             ]
            ],
            "type": "surface"
           }
          ],
          "table": [
           {
            "cells": {
             "fill": {
              "color": "#EBF0F8"
             },
             "line": {
              "color": "white"
             }
            },
            "header": {
             "fill": {
              "color": "#C8D4E3"
             },
             "line": {
              "color": "white"
             }
            },
            "type": "table"
           }
          ]
         },
         "layout": {
          "annotationdefaults": {
           "arrowcolor": "#2a3f5f",
           "arrowhead": 0,
           "arrowwidth": 1
          },
          "coloraxis": {
           "colorbar": {
            "outlinewidth": 0,
            "ticks": ""
           }
          },
          "colorscale": {
           "diverging": [
            [
             0,
             "#8e0152"
            ],
            [
             0.1,
             "#c51b7d"
            ],
            [
             0.2,
             "#de77ae"
            ],
            [
             0.3,
             "#f1b6da"
            ],
            [
             0.4,
             "#fde0ef"
            ],
            [
             0.5,
             "#f7f7f7"
            ],
            [
             0.6,
             "#e6f5d0"
            ],
            [
             0.7,
             "#b8e186"
            ],
            [
             0.8,
             "#7fbc41"
            ],
            [
             0.9,
             "#4d9221"
            ],
            [
             1,
             "#276419"
            ]
           ],
           "sequential": [
            [
             0,
             "#0d0887"
            ],
            [
             0.1111111111111111,
             "#46039f"
            ],
            [
             0.2222222222222222,
             "#7201a8"
            ],
            [
             0.3333333333333333,
             "#9c179e"
            ],
            [
             0.4444444444444444,
             "#bd3786"
            ],
            [
             0.5555555555555556,
             "#d8576b"
            ],
            [
             0.6666666666666666,
             "#ed7953"
            ],
            [
             0.7777777777777778,
             "#fb9f3a"
            ],
            [
             0.8888888888888888,
             "#fdca26"
            ],
            [
             1,
             "#f0f921"
            ]
           ],
           "sequentialminus": [
            [
             0,
             "#0d0887"
            ],
            [
             0.1111111111111111,
             "#46039f"
            ],
            [
             0.2222222222222222,
             "#7201a8"
            ],
            [
             0.3333333333333333,
             "#9c179e"
            ],
            [
             0.4444444444444444,
             "#bd3786"
            ],
            [
             0.5555555555555556,
             "#d8576b"
            ],
            [
             0.6666666666666666,
             "#ed7953"
            ],
            [
             0.7777777777777778,
             "#fb9f3a"
            ],
            [
             0.8888888888888888,
             "#fdca26"
            ],
            [
             1,
             "#f0f921"
            ]
           ]
          },
          "colorway": [
           "#636efa",
           "#EF553B",
           "#00cc96",
           "#ab63fa",
           "#FFA15A",
           "#19d3f3",
           "#FF6692",
           "#B6E880",
           "#FF97FF",
           "#FECB52"
          ],
          "font": {
           "color": "#2a3f5f"
          },
          "geo": {
           "bgcolor": "white",
           "lakecolor": "white",
           "landcolor": "#E5ECF6",
           "showlakes": true,
           "showland": true,
           "subunitcolor": "white"
          },
          "hoverlabel": {
           "align": "left"
          },
          "hovermode": "closest",
          "mapbox": {
           "style": "light"
          },
          "paper_bgcolor": "white",
          "plot_bgcolor": "#E5ECF6",
          "polar": {
           "angularaxis": {
            "gridcolor": "white",
            "linecolor": "white",
            "ticks": ""
           },
           "bgcolor": "#E5ECF6",
           "radialaxis": {
            "gridcolor": "white",
            "linecolor": "white",
            "ticks": ""
           }
          },
          "scene": {
           "xaxis": {
            "backgroundcolor": "#E5ECF6",
            "gridcolor": "white",
            "gridwidth": 2,
            "linecolor": "white",
            "showbackground": true,
            "ticks": "",
            "zerolinecolor": "white"
           },
           "yaxis": {
            "backgroundcolor": "#E5ECF6",
            "gridcolor": "white",
            "gridwidth": 2,
            "linecolor": "white",
            "showbackground": true,
            "ticks": "",
            "zerolinecolor": "white"
           },
           "zaxis": {
            "backgroundcolor": "#E5ECF6",
            "gridcolor": "white",
            "gridwidth": 2,
            "linecolor": "white",
            "showbackground": true,
            "ticks": "",
            "zerolinecolor": "white"
           }
          },
          "shapedefaults": {
           "line": {
            "color": "#2a3f5f"
           }
          },
          "ternary": {
           "aaxis": {
            "gridcolor": "white",
            "linecolor": "white",
            "ticks": ""
           },
           "baxis": {
            "gridcolor": "white",
            "linecolor": "white",
            "ticks": ""
           },
           "bgcolor": "#E5ECF6",
           "caxis": {
            "gridcolor": "white",
            "linecolor": "white",
            "ticks": ""
           }
          },
          "title": {
           "x": 0.05
          },
          "xaxis": {
           "automargin": true,
           "gridcolor": "white",
           "linecolor": "white",
           "ticks": "",
           "title": {
            "standoff": 15
           },
           "zerolinecolor": "white",
           "zerolinewidth": 2
          },
          "yaxis": {
           "automargin": true,
           "gridcolor": "white",
           "linecolor": "white",
           "ticks": "",
           "title": {
            "standoff": 15
           },
           "zerolinecolor": "white",
           "zerolinewidth": 2
          }
         }
        }
       }
      },
      "image/png": "[encoded data removed]",
      "text/html": [
       "<div>\n",
       "        \n",
       "        \n",
       "            <div id=\"35f37475-2771-4f10-a4c6-403e7bfd714e\" class=\"plotly-graph-div\" style=\"height:525px; width:100%;\"></div>\n",
       "            <script type=\"text/javascript\">\n",
       "                require([\"plotly\"], function(Plotly) {\n",
       "                    window.PLOTLYENV=window.PLOTLYENV || {};\n",
       "                    \n",
       "                if (document.getElementById(\"35f37475-2771-4f10-a4c6-403e7bfd714e\")) {\n",
       "                    Plotly.newPlot(\n",
       "                        '35f37475-2771-4f10-a4c6-403e7bfd714e',\n",
       "                        [{\"coloraxis\": \"coloraxis\", \"geo\": \"geo\", \"hoverlabel\": {\"namelength\": 0}, \"hovertemplate\": \"<b>%{hovertext}</b><br><br>CountryCode=%{location}<br>Count=%{z}\", \"hovertext\": [\"USA\", \"IND\", \"GBR\", \"DEU\", \"CAN\", \"FRA\", \"POL\", \"AUS\", \"RUS\", \"ESP\", \"NLD\", \"ITA\", \"BRA\", \"SWE\", \"CHE\", \"ISR\", \"ROU\", \"AUT\", \"PAK\", \"BEL\", \"ZAF\", \"TUR\", \"UKR\", \"MEX\", \"IRL\", \"HUN\", \"PHL\", \"SVN\", \"DNK\", \"GRC\", \"IDN\", \"FIN\", \"PRT\", \"NOR\", \"BGR\", \"ARG\", \"NZL\", \"JPN\", \"CHN\", \"SRB\", \"MYS\", \"BGD\", \"SGP\", \"LTU\", \"HRV\", \"NGA\", \"LKA\", \"COL\", \"EGY\", \"NPL\", \"HKG\", \"THA\", \"CHL\", \"ARE\", \"LVA\", \"KEN\", \"BLR\", \"EST\", \"URY\", \"ALB\", \"PER\", \"DOM\", \"MAR\", \"AFG\", \"LBN\", \"TUN\", \"CRI\", \"GHA\", \"SAU\", \"ARM\", \"GEO\", \"MLT\", \"JOR\", \"DZA\", \"GTM\", \"ETH\", \"ECU\", \"MMR\", \"KAZ\", \"LUX\", \"ISL\", \"CUB\", \"UZB\", \"CYP\", \"UGA\", \"PRY\", \"PAN\", \"MNG\", \"SLV\", \"JAM\", \"PRI\", \"ZWE\", \"KHM\", \"MUS\", \"TTO\", \"NIC\", \"MNE\", \"SDN\", \"RWA\", \"KWT\", \"BHR\", \"CMR\", \"IRQ\", \"QAT\", \"HND\", \"KGZ\", \"ATA\", \"ZMB\", \"AGO\", \"MDG\", \"MOZ\", \"BWA\", \"TGO\", \"BRN\", \"AND\", \"LIE\", \"SOM\", \"ASM\", \"SEN\", \"OMN\", \"BLZ\", \"HTI\", \"GUY\", \"NAM\", \"LBY\", \"ATG\", \"NER\", \"FJI\", \"YEM\", \"BRB\", \"BVT\", \"BEN\", \"LCA\", \"SUR\", \"BMU\", \"CYM\", \"BTN\", \"ABW\", \"MWI\", \"BDI\", \"AIA\", \"ERI\", \"BFA\", \"MCO\", \"GAB\", \"CXR\", \"COM\", \"BHS\", \"GIN\", \"MSR\", \"SYC\", \"MLI\", \"LSO\", \"TKM\", \"GIB\", \"GUM\", \"IOT\", \"DJI\", \"TCD\", \"MNP\", \"COK\"], \"locations\": [\"USA\", \"IND\", \"GBR\", \"DEU\", \"CAN\", \"FRA\", \"POL\", \"AUS\", \"RUS\", \"ESP\", \"NLD\", \"ITA\", \"BRA\", \"SWE\", \"CHE\", \"ISR\", \"ROU\", \"AUT\", \"PAK\", \"BEL\", \"ZAF\", \"TUR\", \"UKR\", \"MEX\", \"IRL\", \"HUN\", \"PHL\", \"SVN\", \"DNK\", \"GRC\", \"IDN\", \"FIN\", \"PRT\", \"NOR\", \"BGR\", \"ARG\", \"NZL\", \"JPN\", \"CHN\", \"SRB\", \"MYS\", \"BGD\", \"SGP\", \"LTU\", \"HRV\", \"NGA\", \"LKA\", \"COL\", \"EGY\", \"NPL\", \"HKG\", \"THA\", \"CHL\", \"ARE\", \"LVA\", \"KEN\", \"BLR\", \"EST\", \"URY\", \"ALB\", \"PER\", \"DOM\", \"MAR\", \"AFG\", \"LBN\", \"TUN\", \"CRI\", \"GHA\", \"SAU\", \"ARM\", \"GEO\", \"MLT\", \"JOR\", \"DZA\", \"GTM\", \"ETH\", \"ECU\", \"MMR\", \"KAZ\", \"LUX\", \"ISL\", \"CUB\", \"UZB\", \"CYP\", \"UGA\", \"PRY\", \"PAN\", \"MNG\", \"SLV\", \"JAM\", \"PRI\", \"ZWE\", \"KHM\", \"MUS\", \"TTO\", \"NIC\", \"MNE\", \"SDN\", \"RWA\", \"KWT\", \"BHR\", \"CMR\", \"IRQ\", \"QAT\", \"HND\", \"KGZ\", \"ATA\", \"ZMB\", \"AGO\", \"MDG\", \"MOZ\", \"BWA\", \"TGO\", \"BRN\", \"AND\", \"LIE\", \"SOM\", \"ASM\", \"SEN\", \"OMN\", \"BLZ\", \"HTI\", \"GUY\", \"NAM\", \"LBY\", \"ATG\", \"NER\", \"FJI\", \"YEM\", \"BRB\", \"BVT\", \"BEN\", \"LCA\", \"SUR\", \"BMU\", \"CYM\", \"BTN\", \"ABW\", \"MWI\", \"BDI\", \"AIA\", \"ERI\", \"BFA\", \"MCO\", \"GAB\", \"CXR\", \"COM\", \"BHS\", \"GIN\", \"MSR\", \"SYC\", \"MLI\", \"LSO\", \"TKM\", \"GIB\", \"GUM\", \"IOT\", \"DJI\", \"TCD\", \"MNP\", \"COK\"], \"name\": \"\", \"type\": \"choropleth\", \"z\": [11455, 5197, 4395, 4143, 2233, 1740, 1290, 913, 873, 864, 855, 781, 777, 611, 595, 575, 561, 477, 454, 404, 380, 363, 356, 351, 345, 332, 328, 303, 300, 298, 289, 287, 271, 259, 258, 255, 252, 248, 239, 228, 192, 184, 177, 176, 172, 171, 170, 149, 134, 125, 122, 119, 111, 98, 98, 95, 91, 90, 78, 76, 65, 65, 63, 60, 56, 56, 54, 53, 52, 51, 46, 46, 43, 41, 38, 37, 36, 35, 34, 33, 33, 33, 28, 28, 28, 22, 22, 22, 21, 20, 20, 20, 19, 17, 15, 14, 12, 12, 12, 12, 12, 12, 11, 11, 11, 11, 11, 10, 9, 8, 8, 7, 7, 7, 6, 6, 5, 5, 5, 5, 4, 4, 4, 4, 4, 3, 3, 3, 3, 3, 2, 2, 2, 2, 2, 2, 2, 2, 2, 2, 2, 2, 1, 1, 1, 1, 1, 1, 1, 1, 1, 1, 1, 1, 1, 1, 1, 1, 1, 1, 1]}],\n",
       "                        {\"coloraxis\": {\"colorbar\": {\"title\": {\"text\": \"Count\"}}, \"colorscale\": [[0.0, \"white\"], [0.5, \"#0097a7\"], [1.0, \"#004d40\"]]}, \"geo\": {\"center\": {}, \"domain\": {\"x\": [0.0, 1.0], \"y\": [0.0, 1.0]}}, \"legend\": {\"tracegroupgap\": 0}, \"margin\": {\"t\": 60}, \"template\": {\"data\": {\"bar\": [{\"error_x\": {\"color\": \"#2a3f5f\"}, \"error_y\": {\"color\": \"#2a3f5f\"}, \"marker\": {\"line\": {\"color\": \"#E5ECF6\", \"width\": 0.5}}, \"type\": \"bar\"}], \"barpolar\": [{\"marker\": {\"line\": {\"color\": \"#E5ECF6\", \"width\": 0.5}}, \"type\": \"barpolar\"}], \"carpet\": [{\"aaxis\": {\"endlinecolor\": \"#2a3f5f\", \"gridcolor\": \"white\", \"linecolor\": \"white\", \"minorgridcolor\": \"white\", \"startlinecolor\": \"#2a3f5f\"}, \"baxis\": {\"endlinecolor\": \"#2a3f5f\", \"gridcolor\": \"white\", \"linecolor\": \"white\", \"minorgridcolor\": \"white\", \"startlinecolor\": \"#2a3f5f\"}, \"type\": \"carpet\"}], \"choropleth\": [{\"colorbar\": {\"outlinewidth\": 0, \"ticks\": \"\"}, \"type\": \"choropleth\"}], \"contour\": [{\"colorbar\": {\"outlinewidth\": 0, \"ticks\": \"\"}, \"colorscale\": [[0.0, \"#0d0887\"], [0.1111111111111111, \"#46039f\"], [0.2222222222222222, \"#7201a8\"], [0.3333333333333333, \"#9c179e\"], [0.4444444444444444, \"#bd3786\"], [0.5555555555555556, \"#d8576b\"], [0.6666666666666666, \"#ed7953\"], [0.7777777777777778, \"#fb9f3a\"], [0.8888888888888888, \"#fdca26\"], [1.0, \"#f0f921\"]], \"type\": \"contour\"}], \"contourcarpet\": [{\"colorbar\": {\"outlinewidth\": 0, \"ticks\": \"\"}, \"type\": \"contourcarpet\"}], \"heatmap\": [{\"colorbar\": {\"outlinewidth\": 0, \"ticks\": \"\"}, \"colorscale\": [[0.0, \"#0d0887\"], [0.1111111111111111, \"#46039f\"], [0.2222222222222222, \"#7201a8\"], [0.3333333333333333, \"#9c179e\"], [0.4444444444444444, \"#bd3786\"], [0.5555555555555556, \"#d8576b\"], [0.6666666666666666, \"#ed7953\"], [0.7777777777777778, \"#fb9f3a\"], [0.8888888888888888, \"#fdca26\"], [1.0, \"#f0f921\"]], \"type\": \"heatmap\"}], \"heatmapgl\": [{\"colorbar\": {\"outlinewidth\": 0, \"ticks\": \"\"}, \"colorscale\": [[0.0, \"#0d0887\"], [0.1111111111111111, \"#46039f\"], [0.2222222222222222, \"#7201a8\"], [0.3333333333333333, \"#9c179e\"], [0.4444444444444444, \"#bd3786\"], [0.5555555555555556, \"#d8576b\"], [0.6666666666666666, \"#ed7953\"], [0.7777777777777778, \"#fb9f3a\"], [0.8888888888888888, \"#fdca26\"], [1.0, \"#f0f921\"]], \"type\": \"heatmapgl\"}], \"histogram\": [{\"marker\": {\"colorbar\": {\"outlinewidth\": 0, \"ticks\": \"\"}}, \"type\": \"histogram\"}], \"histogram2d\": [{\"colorbar\": {\"outlinewidth\": 0, \"ticks\": \"\"}, \"colorscale\": [[0.0, \"#0d0887\"], [0.1111111111111111, \"#46039f\"], [0.2222222222222222, \"#7201a8\"], [0.3333333333333333, \"#9c179e\"], [0.4444444444444444, \"#bd3786\"], [0.5555555555555556, \"#d8576b\"], [0.6666666666666666, \"#ed7953\"], [0.7777777777777778, \"#fb9f3a\"], [0.8888888888888888, \"#fdca26\"], [1.0, \"#f0f921\"]], \"type\": \"histogram2d\"}], \"histogram2dcontour\": [{\"colorbar\": {\"outlinewidth\": 0, \"ticks\": \"\"}, \"colorscale\": [[0.0, \"#0d0887\"], [0.1111111111111111, \"#46039f\"], [0.2222222222222222, \"#7201a8\"], [0.3333333333333333, \"#9c179e\"], [0.4444444444444444, \"#bd3786\"], [0.5555555555555556, \"#d8576b\"], [0.6666666666666666, \"#ed7953\"], [0.7777777777777778, \"#fb9f3a\"], [0.8888888888888888, \"#fdca26\"], [1.0, \"#f0f921\"]], \"type\": \"histogram2dcontour\"}], \"mesh3d\": [{\"colorbar\": {\"outlinewidth\": 0, \"ticks\": \"\"}, \"type\": \"mesh3d\"}], \"parcoords\": [{\"line\": {\"colorbar\": {\"outlinewidth\": 0, \"ticks\": \"\"}}, \"type\": \"parcoords\"}], \"pie\": [{\"automargin\": true, \"type\": \"pie\"}], \"scatter\": [{\"marker\": {\"colorbar\": {\"outlinewidth\": 0, \"ticks\": \"\"}}, \"type\": \"scatter\"}], \"scatter3d\": [{\"line\": {\"colorbar\": {\"outlinewidth\": 0, \"ticks\": \"\"}}, \"marker\": {\"colorbar\": {\"outlinewidth\": 0, \"ticks\": \"\"}}, \"type\": \"scatter3d\"}], \"scattercarpet\": [{\"marker\": {\"colorbar\": {\"outlinewidth\": 0, \"ticks\": \"\"}}, \"type\": \"scattercarpet\"}], \"scattergeo\": [{\"marker\": {\"colorbar\": {\"outlinewidth\": 0, \"ticks\": \"\"}}, \"type\": \"scattergeo\"}], \"scattergl\": [{\"marker\": {\"colorbar\": {\"outlinewidth\": 0, \"ticks\": \"\"}}, \"type\": \"scattergl\"}], \"scattermapbox\": [{\"marker\": {\"colorbar\": {\"outlinewidth\": 0, \"ticks\": \"\"}}, \"type\": \"scattermapbox\"}], \"scatterpolar\": [{\"marker\": {\"colorbar\": {\"outlinewidth\": 0, \"ticks\": \"\"}}, \"type\": \"scatterpolar\"}], \"scatterpolargl\": [{\"marker\": {\"colorbar\": {\"outlinewidth\": 0, \"ticks\": \"\"}}, \"type\": \"scatterpolargl\"}], \"scatterternary\": [{\"marker\": {\"colorbar\": {\"outlinewidth\": 0, \"ticks\": \"\"}}, \"type\": \"scatterternary\"}], \"surface\": [{\"colorbar\": {\"outlinewidth\": 0, \"ticks\": \"\"}, \"colorscale\": [[0.0, \"#0d0887\"], [0.1111111111111111, \"#46039f\"], [0.2222222222222222, \"#7201a8\"], [0.3333333333333333, \"#9c179e\"], [0.4444444444444444, \"#bd3786\"], [0.5555555555555556, \"#d8576b\"], [0.6666666666666666, \"#ed7953\"], [0.7777777777777778, \"#fb9f3a\"], [0.8888888888888888, \"#fdca26\"], [1.0, \"#f0f921\"]], \"type\": \"surface\"}], \"table\": [{\"cells\": {\"fill\": {\"color\": \"#EBF0F8\"}, \"line\": {\"color\": \"white\"}}, \"header\": {\"fill\": {\"color\": \"#C8D4E3\"}, \"line\": {\"color\": \"white\"}}, \"type\": \"table\"}]}, \"layout\": {\"annotationdefaults\": {\"arrowcolor\": \"#2a3f5f\", \"arrowhead\": 0, \"arrowwidth\": 1}, \"coloraxis\": {\"colorbar\": {\"outlinewidth\": 0, \"ticks\": \"\"}}, \"colorscale\": {\"diverging\": [[0, \"#8e0152\"], [0.1, \"#c51b7d\"], [0.2, \"#de77ae\"], [0.3, \"#f1b6da\"], [0.4, \"#fde0ef\"], [0.5, \"#f7f7f7\"], [0.6, \"#e6f5d0\"], [0.7, \"#b8e186\"], [0.8, \"#7fbc41\"], [0.9, \"#4d9221\"], [1, \"#276419\"]], \"sequential\": [[0.0, \"#0d0887\"], [0.1111111111111111, \"#46039f\"], [0.2222222222222222, \"#7201a8\"], [0.3333333333333333, \"#9c179e\"], [0.4444444444444444, \"#bd3786\"], [0.5555555555555556, \"#d8576b\"], [0.6666666666666666, \"#ed7953\"], [0.7777777777777778, \"#fb9f3a\"], [0.8888888888888888, \"#fdca26\"], [1.0, \"#f0f921\"]], \"sequentialminus\": [[0.0, \"#0d0887\"], [0.1111111111111111, \"#46039f\"], [0.2222222222222222, \"#7201a8\"], [0.3333333333333333, \"#9c179e\"], [0.4444444444444444, \"#bd3786\"], [0.5555555555555556, \"#d8576b\"], [0.6666666666666666, \"#ed7953\"], [0.7777777777777778, \"#fb9f3a\"], [0.8888888888888888, \"#fdca26\"], [1.0, \"#f0f921\"]]}, \"colorway\": [\"#636efa\", \"#EF553B\", \"#00cc96\", \"#ab63fa\", \"#FFA15A\", \"#19d3f3\", \"#FF6692\", \"#B6E880\", \"#FF97FF\", \"#FECB52\"], \"font\": {\"color\": \"#2a3f5f\"}, \"geo\": {\"bgcolor\": \"white\", \"lakecolor\": \"white\", \"landcolor\": \"#E5ECF6\", \"showlakes\": true, \"showland\": true, \"subunitcolor\": \"white\"}, \"hoverlabel\": {\"align\": \"left\"}, \"hovermode\": \"closest\", \"mapbox\": {\"style\": \"light\"}, \"paper_bgcolor\": \"white\", \"plot_bgcolor\": \"#E5ECF6\", \"polar\": {\"angularaxis\": {\"gridcolor\": \"white\", \"linecolor\": \"white\", \"ticks\": \"\"}, \"bgcolor\": \"#E5ECF6\", \"radialaxis\": {\"gridcolor\": \"white\", \"linecolor\": \"white\", \"ticks\": \"\"}}, \"scene\": {\"xaxis\": {\"backgroundcolor\": \"#E5ECF6\", \"gridcolor\": \"white\", \"gridwidth\": 2, \"linecolor\": \"white\", \"showbackground\": true, \"ticks\": \"\", \"zerolinecolor\": \"white\"}, \"yaxis\": {\"backgroundcolor\": \"#E5ECF6\", \"gridcolor\": \"white\", \"gridwidth\": 2, \"linecolor\": \"white\", \"showbackground\": true, \"ticks\": \"\", \"zerolinecolor\": \"white\"}, \"zaxis\": {\"backgroundcolor\": \"#E5ECF6\", \"gridcolor\": \"white\", \"gridwidth\": 2, \"linecolor\": \"white\", \"showbackground\": true, \"ticks\": \"\", \"zerolinecolor\": \"white\"}}, \"shapedefaults\": {\"line\": {\"color\": \"#2a3f5f\"}}, \"ternary\": {\"aaxis\": {\"gridcolor\": \"white\", \"linecolor\": \"white\", \"ticks\": \"\"}, \"baxis\": {\"gridcolor\": \"white\", \"linecolor\": \"white\", \"ticks\": \"\"}, \"bgcolor\": \"#E5ECF6\", \"caxis\": {\"gridcolor\": \"white\", \"linecolor\": \"white\", \"ticks\": \"\"}}, \"title\": {\"x\": 0.05}, \"xaxis\": {\"automargin\": true, \"gridcolor\": \"white\", \"linecolor\": \"white\", \"ticks\": \"\", \"title\": {\"standoff\": 15}, \"zerolinecolor\": \"white\", \"zerolinewidth\": 2}, \"yaxis\": {\"automargin\": true, \"gridcolor\": \"white\", \"linecolor\": \"white\", \"ticks\": \"\", \"title\": {\"standoff\": 15}, \"zerolinecolor\": \"white\", \"zerolinewidth\": 2}}}},\n",
       "                        {\"responsive\": true}\n",
       "                    ).then(function(){\n",
       "                            \n",
       "var gd = document.getElementById('35f37475-2771-4f10-a4c6-403e7bfd714e');\n",
       "var x = new MutationObserver(function (mutations, observer) {{\n",
       "        var display = window.getComputedStyle(gd).display;\n",
       "        if (!display || display === 'none') {{\n",
       "            console.log([gd, 'removed!']);\n",
       "            Plotly.purge(gd);\n",
       "            observer.disconnect();\n",
       "        }}\n",
       "}});\n",
       "\n",
       "// Listen for the removal of the full notebook cells\n",
       "var notebookContainer = gd.closest('#notebook-container');\n",
       "if (notebookContainer) {{\n",
       "    x.observe(notebookContainer, {childList: true});\n",
       "}}\n",
       "\n",
       "// Listen for the clearing of the current output cell\n",
       "var outputEl = gd.closest('.output');\n",
       "if (outputEl) {{\n",
       "    x.observe(outputEl, {childList: true});\n",
       "}}\n",
       "\n",
       "                        })\n",
       "                };\n",
       "                });\n",
       "            </script>\n",
       "        </div>"
      ]
     },
     "metadata": {},
     "output_type": "display_data"
    }
   ],
   "source": [
    "count_by_country_df = df.CountryAlpha.value_counts().to_frame(name=\"Count\").reset_index().rename(columns={'index': 'CountryCode'})\n",
    "count_by_country_df\n",
    "fig = px.choropleth(count_by_country_df, locations = \"CountryCode\",\n",
    "                    color=\"Count\", # lifeExp is a column of gapminder\n",
    "                    hover_name=\"CountryCode\", # column to add to hover information\n",
    "                    color_continuous_scale=[\"white\", \"#0097a7\", \"#004d40\"])\n",
    "fig.show()"
   ]
  },
  {
   "cell_type": "raw",
   "metadata": {},
   "source": [
    "# age\n",
    "# Who replied to all?\n",
    "# tech by country\n",
    "# YearsToProgram by Country\n",
    "# CareerSatisfaction by Country\n",
    "# CareerSatisfaction by YearsToProgram\n",
    "# CareerSatisfaction by JobSatisfaction #### JobSeekingStatus"
   ]
  },
  {
   "cell_type": "code",
   "execution_count": null,
   "metadata": {},
   "outputs": [],
   "source": []
  }
 ],
 "metadata": {
  "kernelspec": {
   "display_name": "Python 3",
   "language": "python",
   "name": "python3"
  },
  "language_info": {
   "codemirror_mode": {
    "name": "ipython",
    "version": 3
   },
   "file_extension": ".py",
   "mimetype": "text/x-python",
   "name": "python",
   "nbconvert_exporter": "python",
   "pygments_lexer": "ipython3",
   "version": "3.7.6"
  }
 },
 "nbformat": 4,
 "nbformat_minor": 4
}
